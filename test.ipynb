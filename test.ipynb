{
 "cells": [
  {
   "cell_type": "code",
   "execution_count": 1,
   "metadata": {},
   "outputs": [
    {
     "name": "stdout",
     "output_type": "stream",
     "text": [
      "Intel MKL WARNING: Support of Intel(R) Streaming SIMD Extensions 4.2 (Intel(R) SSE4.2) enabled only processors has been deprecated. Intel oneAPI Math Kernel Library 2025.0 will require Intel(R) Advanced Vector Extensions (Intel(R) AVX) instructions.\n",
      "Intel MKL WARNING: Support of Intel(R) Streaming SIMD Extensions 4.2 (Intel(R) SSE4.2) enabled only processors has been deprecated. Intel oneAPI Math Kernel Library 2025.0 will require Intel(R) Advanced Vector Extensions (Intel(R) AVX) instructions.\n"
     ]
    }
   ],
   "source": [
    "from xml_parser import GPT4XmlParser"
   ]
  },
  {
   "cell_type": "code",
   "execution_count": 2,
   "metadata": {},
   "outputs": [],
   "source": [
    "gpt4_xml_parser = GPT4XmlParser(\n",
    "    xml_describtion_path = '/Users/petrsilov/Desktop/Clever_Bots/GPT4XmlParser/xml_describtion.txt',\n",
    "    xml_file_path = 'response.xml'\n",
    "    \n",
    ")\n",
    "\n",
    "# first_test = gpt4_xml_parser('Какие есть авто, у которых меньше 4 дверей?')\n",
    "# print(first_test)\n",
    "second_test = gpt4_xml_parser('У вас есть электрические Минивэны больше 2023 года?')\n",
    "# print(second_test)\n",
    "\n",
    "# third_test = gpt4_xml_parser('Какие есть кузова у Мерсов?')\n",
    "# print(third_test)\n",
    "\n",
    "# test_4 = gpt4_xml_parser('Какие есть Мерседесы на бензине?')\n",
    "# print(test_4)\n",
    "\n",
    "# test_5 = gpt4_xml_parser('Какие модели электрокаров продаете?') \n",
    "# print(test_5)"
   ]
  },
  {
   "cell_type": "code",
   "execution_count": 7,
   "metadata": {},
   "outputs": [],
   "source": [
    "print(gpt4_xml_parser.xml_to_json(second_test))"
   ]
  }
 ],
 "metadata": {
  "kernelspec": {
   "display_name": "LinkVakidationSystem",
   "language": "python",
   "name": "python3"
  },
  "language_info": {
   "codemirror_mode": {
    "name": "ipython",
    "version": 3
   },
   "file_extension": ".py",
   "mimetype": "text/x-python",
   "name": "python",
   "nbconvert_exporter": "python",
   "pygments_lexer": "ipython3",
   "version": "3.9.18"
  }
 },
 "nbformat": 4,
 "nbformat_minor": 2
}
